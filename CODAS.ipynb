{
  "nbformat": 4,
  "nbformat_minor": 0,
  "metadata": {
    "colab": {
      "name": "CODAS.ipynb",
      "provenance": [],
      "collapsed_sections": [],
      "authorship_tag": "ABX9TyPRX5RW8vekK9WC7OXA2d1P",
      "include_colab_link": true
    },
    "kernelspec": {
      "name": "python3",
      "display_name": "Python 3"
    }
  },
  "cells": [
    {
      "cell_type": "markdown",
      "metadata": {
        "id": "view-in-github",
        "colab_type": "text"
      },
      "source": [
        "<a href=\"https://colab.research.google.com/github/lorransr/codas-method/blob/main/CODAS.ipynb\" target=\"_parent\"><img src=\"https://colab.research.google.com/assets/colab-badge.svg\" alt=\"Open In Colab\"/></a>"
      ]
    },
    {
      "cell_type": "markdown",
      "metadata": {
        "id": "gKaFvf2tkgtj"
      },
      "source": [
        "# Método **CO**mbinative **D**istance-based **AS**sessment (CODAS)\r\n",
        "\r\n",
        "\r\n",
        "[artigo](https://ideas.repec.org/a/cys/ecocyb/v50y2016i3p25-44.html)"
      ]
    },
    {
      "cell_type": "code",
      "metadata": {
        "id": "rrw41lzYo38j"
      },
      "source": [
        "import pandas as pd\r\n",
        "import numpy as np"
      ],
      "execution_count": null,
      "outputs": []
    },
    {
      "cell_type": "code",
      "metadata": {
        "id": "b4fwFd9Ru6fY"
      },
      "source": [
        "#mostrando 3 casas decimais no array do numpy\r\n",
        "np.set_printoptions(formatter={'float': lambda x: \"{0:0.3f}\".format(x)})"
      ],
      "execution_count": null,
      "outputs": []
    },
    {
      "cell_type": "markdown",
      "metadata": {
        "id": "-jzhC4NyXzRx"
      },
      "source": [
        "This example is adapted from Chakraborty and Zavadskas (2014) which is\r\n",
        "related to the selection of the most appropriate industrial robot. Five different\r\n",
        "criteria which are considered in this robot selection problem are: load capacity (in\r\n",
        "kg), maximum tip speed (in mm/s), repeatability (in mm), memory capacity (in\r\n",
        "points or steps) and manipulator reach (in mm). Among these criteria, the load\r\n",
        "capacity, maximum tip speed, memory capacity, and manipulator reach are defined\r\n",
        "as benefit criteria, and the repeatability is defined as a cost criterion\r\n",
        "\r\n",
        "\r\n",
        "Exemplo de seleção de um robo industrial apropriado (Chakraborty e Zavadskas, 2014).\r\n",
        "\r\n",
        "Cinco Critérios considerados:\r\n",
        "* Carga Suportada (Kg) (L [<sup>1</sup>](#fn1))\r\n",
        "* Velocidade maxima na ponta (mm/s) (L)\r\n",
        "* repetibilidade (mm) (C [<sup>2</sup>](#fn2))\r\n",
        "* capacidade de memória (em pontos ou passos) (L)\r\n",
        "\r\n",
        "<span id=\"fn1\">1: L = Lucro </span>\r\n",
        "<span id=\"fn2\">2: C = Custo </span>\r\n"
      ]
    },
    {
      "cell_type": "code",
      "metadata": {
        "id": "vo-qkJt1o8N9"
      },
      "source": [
        "# inputs\r\n",
        "data = {\r\n",
        "    \"load_capacity\": [60,6.35,6.8,10,2.5,4.5,3],\r\n",
        "    \"repeatability\" : [0.4,0.15,0.10,0.2,0.10,0.08,0.1],\r\n",
        "    \"maximum_tip_speed\" : [2540,1016,1727.2,1000,560,1016,1778],\r\n",
        "    \"memory_capacity\" : [500,3000,1500,2000,500,350,1000],\r\n",
        "    \"manipulator_reach\" : [990,1041,1676,965,915,508,920]\r\n",
        "    }\r\n",
        "\r\n",
        "w = [0.036, 0.192, 0.326, 0.326, 0.120]\r\n",
        "benefit_criterias = [\"load_capacity\",\"maximum_tip_speed\",\"memory_capacity\",\"manipulator_reach\"]\r\n",
        "cost_criterias = [\"repeatability\"]"
      ],
      "execution_count": null,
      "outputs": []
    },
    {
      "cell_type": "markdown",
      "metadata": {
        "id": "w4GwyuTUHdgW"
      },
      "source": [
        "## Passo 1 \r\n",
        "- Construir a matriz de decisão (X), da forma:\r\n",
        "\r\n",
        "$$ X = [x_{ij}]_{n \\times m} = \\begin{vmatrix} \r\n",
        "   x_{11} & x_{12} & ... & x_{1m}  \\\\\r\n",
        "   x_{21} & x_{22} & ... &  x_{2m}  \\\\\r\n",
        "  : & : &: &  :  \\\\\r\n",
        "    x_{n1} & x_{n2} & ... &  x_{nm}  \\\\\r\n",
        "   \\end{vmatrix}  $$\r\n",
        "\r\n",
        "\r\n",
        "onde $x_{ij}$ ($x_{ij} >= 0$) denota o valor de performance da i-ésima alternativa no j-ésimo cretério\r\n"
      ]
    },
    {
      "cell_type": "code",
      "metadata": {
        "colab": {
          "base_uri": "https://localhost:8080/",
          "height": 266
        },
        "id": "On4vrVZWpI_k",
        "outputId": "a49a30b2-affa-47f5-ec68-b14bc902d27b"
      },
      "source": [
        "m_raw = pd.DataFrame(data)\r\n",
        "alternatives = [ \"a_\" + str(i) for i in range(1,len(m_raw)+1)]\r\n",
        "m_raw.index = alternatives\r\n",
        "m_raw"
      ],
      "execution_count": null,
      "outputs": [
        {
          "output_type": "execute_result",
          "data": {
            "text/html": [
              "<div>\n",
              "<style scoped>\n",
              "    .dataframe tbody tr th:only-of-type {\n",
              "        vertical-align: middle;\n",
              "    }\n",
              "\n",
              "    .dataframe tbody tr th {\n",
              "        vertical-align: top;\n",
              "    }\n",
              "\n",
              "    .dataframe thead th {\n",
              "        text-align: right;\n",
              "    }\n",
              "</style>\n",
              "<table border=\"1\" class=\"dataframe\">\n",
              "  <thead>\n",
              "    <tr style=\"text-align: right;\">\n",
              "      <th></th>\n",
              "      <th>load_capacity</th>\n",
              "      <th>repeatability</th>\n",
              "      <th>maximum_tip_speed</th>\n",
              "      <th>memory_capacity</th>\n",
              "      <th>manipulator_reach</th>\n",
              "    </tr>\n",
              "  </thead>\n",
              "  <tbody>\n",
              "    <tr>\n",
              "      <th>a_1</th>\n",
              "      <td>60.00</td>\n",
              "      <td>0.40</td>\n",
              "      <td>2540.0</td>\n",
              "      <td>500</td>\n",
              "      <td>990</td>\n",
              "    </tr>\n",
              "    <tr>\n",
              "      <th>a_2</th>\n",
              "      <td>6.35</td>\n",
              "      <td>0.15</td>\n",
              "      <td>1016.0</td>\n",
              "      <td>3000</td>\n",
              "      <td>1041</td>\n",
              "    </tr>\n",
              "    <tr>\n",
              "      <th>a_3</th>\n",
              "      <td>6.80</td>\n",
              "      <td>0.10</td>\n",
              "      <td>1727.2</td>\n",
              "      <td>1500</td>\n",
              "      <td>1676</td>\n",
              "    </tr>\n",
              "    <tr>\n",
              "      <th>a_4</th>\n",
              "      <td>10.00</td>\n",
              "      <td>0.20</td>\n",
              "      <td>1000.0</td>\n",
              "      <td>2000</td>\n",
              "      <td>965</td>\n",
              "    </tr>\n",
              "    <tr>\n",
              "      <th>a_5</th>\n",
              "      <td>2.50</td>\n",
              "      <td>0.10</td>\n",
              "      <td>560.0</td>\n",
              "      <td>500</td>\n",
              "      <td>915</td>\n",
              "    </tr>\n",
              "    <tr>\n",
              "      <th>a_6</th>\n",
              "      <td>4.50</td>\n",
              "      <td>0.08</td>\n",
              "      <td>1016.0</td>\n",
              "      <td>350</td>\n",
              "      <td>508</td>\n",
              "    </tr>\n",
              "    <tr>\n",
              "      <th>a_7</th>\n",
              "      <td>3.00</td>\n",
              "      <td>0.10</td>\n",
              "      <td>1778.0</td>\n",
              "      <td>1000</td>\n",
              "      <td>920</td>\n",
              "    </tr>\n",
              "  </tbody>\n",
              "</table>\n",
              "</div>"
            ],
            "text/plain": [
              "     load_capacity  repeatability  ...  memory_capacity  manipulator_reach\n",
              "a_1          60.00           0.40  ...              500                990\n",
              "a_2           6.35           0.15  ...             3000               1041\n",
              "a_3           6.80           0.10  ...             1500               1676\n",
              "a_4          10.00           0.20  ...             2000                965\n",
              "a_5           2.50           0.10  ...              500                915\n",
              "a_6           4.50           0.08  ...              350                508\n",
              "a_7           3.00           0.10  ...             1000                920\n",
              "\n",
              "[7 rows x 5 columns]"
            ]
          },
          "metadata": {
            "tags": []
          },
          "execution_count": 22
        }
      ]
    },
    {
      "cell_type": "code",
      "metadata": {
        "colab": {
          "base_uri": "https://localhost:8080/"
        },
        "id": "y6x2_J_MtyQl",
        "outputId": "8c729be4-7f0b-45da-ce4a-c0939ae52035"
      },
      "source": [
        "\r\n",
        "weights = pd.Series(w,index=m_raw.columns)\r\n",
        "weights"
      ],
      "execution_count": null,
      "outputs": [
        {
          "output_type": "execute_result",
          "data": {
            "text/plain": [
              "load_capacity        0.036\n",
              "repeatability        0.192\n",
              "maximum_tip_speed    0.326\n",
              "memory_capacity      0.326\n",
              "manipulator_reach    0.120\n",
              "dtype: float64"
            ]
          },
          "metadata": {
            "tags": []
          },
          "execution_count": 23
        }
      ]
    },
    {
      "cell_type": "markdown",
      "metadata": {
        "id": "_1eDHiQ_zz1M"
      },
      "source": [
        "## Passo 2\r\n",
        "- calcular a matriz de decisão normalizada. Deve ser usada a normalização linear do valor da performance de acordo com a formula:\r\n",
        "\r\n",
        "$$n_{ij} =\r\n",
        "\\begin{cases}\r\n",
        "    \\frac{x_{ij}}{\\max x_{ij}} & \\text{se } j \\in N_{b}\\\\\r\n",
        "    \\frac{\\min x_{ij}}{x_{ij}},& \\text{se } j \\in N_{c} \r\n",
        "\\end{cases}\r\n",
        "$$\r\n",
        "\r\n",
        "\r\n",
        "onde $N_b$ e $N_c$ representam os conjuntos de lucro e custo, respectivamente.\r\n"
      ]
    },
    {
      "cell_type": "code",
      "metadata": {
        "id": "70q7Z1UqsrVd"
      },
      "source": [
        "def normalize_codas(s:pd.Series,benefit_criteria = True):\r\n",
        "  if benefit_criteria:\r\n",
        "    return s.apply(lambda x: x/(s.max()))\r\n",
        "  else:\r\n",
        "    return s.apply(lambda x: s.min()/x)\r\n"
      ],
      "execution_count": null,
      "outputs": []
    },
    {
      "cell_type": "code",
      "metadata": {
        "colab": {
          "base_uri": "https://localhost:8080/",
          "height": 266
        },
        "id": "lts5GhPh54CH",
        "outputId": "5541215c-114e-4287-ce04-0d2ff99aa142"
      },
      "source": [
        "m_raw[[\"maximum_tip_speed\"]].apply(lambda x: normalize_codas(x,benefit_criteria=True))"
      ],
      "execution_count": null,
      "outputs": [
        {
          "output_type": "execute_result",
          "data": {
            "text/html": [
              "<div>\n",
              "<style scoped>\n",
              "    .dataframe tbody tr th:only-of-type {\n",
              "        vertical-align: middle;\n",
              "    }\n",
              "\n",
              "    .dataframe tbody tr th {\n",
              "        vertical-align: top;\n",
              "    }\n",
              "\n",
              "    .dataframe thead th {\n",
              "        text-align: right;\n",
              "    }\n",
              "</style>\n",
              "<table border=\"1\" class=\"dataframe\">\n",
              "  <thead>\n",
              "    <tr style=\"text-align: right;\">\n",
              "      <th></th>\n",
              "      <th>maximum_tip_speed</th>\n",
              "    </tr>\n",
              "  </thead>\n",
              "  <tbody>\n",
              "    <tr>\n",
              "      <th>a_1</th>\n",
              "      <td>1.000000</td>\n",
              "    </tr>\n",
              "    <tr>\n",
              "      <th>a_2</th>\n",
              "      <td>0.400000</td>\n",
              "    </tr>\n",
              "    <tr>\n",
              "      <th>a_3</th>\n",
              "      <td>0.680000</td>\n",
              "    </tr>\n",
              "    <tr>\n",
              "      <th>a_4</th>\n",
              "      <td>0.393701</td>\n",
              "    </tr>\n",
              "    <tr>\n",
              "      <th>a_5</th>\n",
              "      <td>0.220472</td>\n",
              "    </tr>\n",
              "    <tr>\n",
              "      <th>a_6</th>\n",
              "      <td>0.400000</td>\n",
              "    </tr>\n",
              "    <tr>\n",
              "      <th>a_7</th>\n",
              "      <td>0.700000</td>\n",
              "    </tr>\n",
              "  </tbody>\n",
              "</table>\n",
              "</div>"
            ],
            "text/plain": [
              "     maximum_tip_speed\n",
              "a_1           1.000000\n",
              "a_2           0.400000\n",
              "a_3           0.680000\n",
              "a_4           0.393701\n",
              "a_5           0.220472\n",
              "a_6           0.400000\n",
              "a_7           0.700000"
            ]
          },
          "metadata": {
            "tags": []
          },
          "execution_count": 25
        }
      ]
    },
    {
      "cell_type": "code",
      "metadata": {
        "colab": {
          "base_uri": "https://localhost:8080/",
          "height": 266
        },
        "id": "O6lrjK0Jx2T2",
        "outputId": "08ff49bc-f134-479f-bee6-ea088ba40a3f"
      },
      "source": [
        "benefits = m_raw[benefit_criterias].apply(lambda x: normalize_codas(x))\r\n",
        "costs = m_raw[cost_criterias].apply(lambda x: normalize_codas(x,benefit_criteria=False))\r\n",
        "\r\n",
        "m_normalized = pd.concat([benefits,costs],axis=1)\r\n",
        "m_normalized"
      ],
      "execution_count": null,
      "outputs": [
        {
          "output_type": "execute_result",
          "data": {
            "text/html": [
              "<div>\n",
              "<style scoped>\n",
              "    .dataframe tbody tr th:only-of-type {\n",
              "        vertical-align: middle;\n",
              "    }\n",
              "\n",
              "    .dataframe tbody tr th {\n",
              "        vertical-align: top;\n",
              "    }\n",
              "\n",
              "    .dataframe thead th {\n",
              "        text-align: right;\n",
              "    }\n",
              "</style>\n",
              "<table border=\"1\" class=\"dataframe\">\n",
              "  <thead>\n",
              "    <tr style=\"text-align: right;\">\n",
              "      <th></th>\n",
              "      <th>load_capacity</th>\n",
              "      <th>maximum_tip_speed</th>\n",
              "      <th>memory_capacity</th>\n",
              "      <th>manipulator_reach</th>\n",
              "      <th>repeatability</th>\n",
              "    </tr>\n",
              "  </thead>\n",
              "  <tbody>\n",
              "    <tr>\n",
              "      <th>a_1</th>\n",
              "      <td>1.000000</td>\n",
              "      <td>1.000000</td>\n",
              "      <td>0.166667</td>\n",
              "      <td>0.590692</td>\n",
              "      <td>0.200000</td>\n",
              "    </tr>\n",
              "    <tr>\n",
              "      <th>a_2</th>\n",
              "      <td>0.105833</td>\n",
              "      <td>0.400000</td>\n",
              "      <td>1.000000</td>\n",
              "      <td>0.621122</td>\n",
              "      <td>0.533333</td>\n",
              "    </tr>\n",
              "    <tr>\n",
              "      <th>a_3</th>\n",
              "      <td>0.113333</td>\n",
              "      <td>0.680000</td>\n",
              "      <td>0.500000</td>\n",
              "      <td>1.000000</td>\n",
              "      <td>0.800000</td>\n",
              "    </tr>\n",
              "    <tr>\n",
              "      <th>a_4</th>\n",
              "      <td>0.166667</td>\n",
              "      <td>0.393701</td>\n",
              "      <td>0.666667</td>\n",
              "      <td>0.575776</td>\n",
              "      <td>0.400000</td>\n",
              "    </tr>\n",
              "    <tr>\n",
              "      <th>a_5</th>\n",
              "      <td>0.041667</td>\n",
              "      <td>0.220472</td>\n",
              "      <td>0.166667</td>\n",
              "      <td>0.545943</td>\n",
              "      <td>0.800000</td>\n",
              "    </tr>\n",
              "    <tr>\n",
              "      <th>a_6</th>\n",
              "      <td>0.075000</td>\n",
              "      <td>0.400000</td>\n",
              "      <td>0.116667</td>\n",
              "      <td>0.303103</td>\n",
              "      <td>1.000000</td>\n",
              "    </tr>\n",
              "    <tr>\n",
              "      <th>a_7</th>\n",
              "      <td>0.050000</td>\n",
              "      <td>0.700000</td>\n",
              "      <td>0.333333</td>\n",
              "      <td>0.548926</td>\n",
              "      <td>0.800000</td>\n",
              "    </tr>\n",
              "  </tbody>\n",
              "</table>\n",
              "</div>"
            ],
            "text/plain": [
              "     load_capacity  maximum_tip_speed  ...  manipulator_reach  repeatability\n",
              "a_1       1.000000           1.000000  ...           0.590692       0.200000\n",
              "a_2       0.105833           0.400000  ...           0.621122       0.533333\n",
              "a_3       0.113333           0.680000  ...           1.000000       0.800000\n",
              "a_4       0.166667           0.393701  ...           0.575776       0.400000\n",
              "a_5       0.041667           0.220472  ...           0.545943       0.800000\n",
              "a_6       0.075000           0.400000  ...           0.303103       1.000000\n",
              "a_7       0.050000           0.700000  ...           0.548926       0.800000\n",
              "\n",
              "[7 rows x 5 columns]"
            ]
          },
          "metadata": {
            "tags": []
          },
          "execution_count": 27
        }
      ]
    },
    {
      "cell_type": "markdown",
      "metadata": {
        "id": "jU7krdJJMNpD"
      },
      "source": [
        "## Passo 3\r\n",
        "Calcular a matriz normalizada e ponderada de acordo com a equação:\r\n",
        "\r\n",
        "$$r_{ij} = w_{j}n_{ij}$$\r\n",
        "\r\n",
        "onde $w_j$ ($0 < w_j < 1$) representa o j-ésimo critério e \r\n",
        "\r\n",
        "$$\\sum^m_{j=1}w_j = 1$$"
      ]
    },
    {
      "cell_type": "code",
      "metadata": {
        "id": "0BVA9kfnMlhA"
      },
      "source": [
        "assert 1 == (weights).sum(), \"somatório dos pesos deve ser 1\""
      ],
      "execution_count": null,
      "outputs": []
    },
    {
      "cell_type": "code",
      "metadata": {
        "colab": {
          "base_uri": "https://localhost:8080/",
          "height": 266
        },
        "id": "2F3bj6-rzC3I",
        "outputId": "a11d7c09-46f4-46b5-97a1-48d4153f41bd"
      },
      "source": [
        "m_weighted = m_normalized * weights\r\n",
        "m_weighted"
      ],
      "execution_count": null,
      "outputs": [
        {
          "output_type": "execute_result",
          "data": {
            "text/html": [
              "<div>\n",
              "<style scoped>\n",
              "    .dataframe tbody tr th:only-of-type {\n",
              "        vertical-align: middle;\n",
              "    }\n",
              "\n",
              "    .dataframe tbody tr th {\n",
              "        vertical-align: top;\n",
              "    }\n",
              "\n",
              "    .dataframe thead th {\n",
              "        text-align: right;\n",
              "    }\n",
              "</style>\n",
              "<table border=\"1\" class=\"dataframe\">\n",
              "  <thead>\n",
              "    <tr style=\"text-align: right;\">\n",
              "      <th></th>\n",
              "      <th>load_capacity</th>\n",
              "      <th>manipulator_reach</th>\n",
              "      <th>maximum_tip_speed</th>\n",
              "      <th>memory_capacity</th>\n",
              "      <th>repeatability</th>\n",
              "    </tr>\n",
              "  </thead>\n",
              "  <tbody>\n",
              "    <tr>\n",
              "      <th>a_1</th>\n",
              "      <td>0.03600</td>\n",
              "      <td>0.070883</td>\n",
              "      <td>0.326000</td>\n",
              "      <td>0.054333</td>\n",
              "      <td>0.0384</td>\n",
              "    </tr>\n",
              "    <tr>\n",
              "      <th>a_2</th>\n",
              "      <td>0.00381</td>\n",
              "      <td>0.074535</td>\n",
              "      <td>0.130400</td>\n",
              "      <td>0.326000</td>\n",
              "      <td>0.1024</td>\n",
              "    </tr>\n",
              "    <tr>\n",
              "      <th>a_3</th>\n",
              "      <td>0.00408</td>\n",
              "      <td>0.120000</td>\n",
              "      <td>0.221680</td>\n",
              "      <td>0.163000</td>\n",
              "      <td>0.1536</td>\n",
              "    </tr>\n",
              "    <tr>\n",
              "      <th>a_4</th>\n",
              "      <td>0.00600</td>\n",
              "      <td>0.069093</td>\n",
              "      <td>0.128346</td>\n",
              "      <td>0.217333</td>\n",
              "      <td>0.0768</td>\n",
              "    </tr>\n",
              "    <tr>\n",
              "      <th>a_5</th>\n",
              "      <td>0.00150</td>\n",
              "      <td>0.065513</td>\n",
              "      <td>0.071874</td>\n",
              "      <td>0.054333</td>\n",
              "      <td>0.1536</td>\n",
              "    </tr>\n",
              "    <tr>\n",
              "      <th>a_6</th>\n",
              "      <td>0.00270</td>\n",
              "      <td>0.036372</td>\n",
              "      <td>0.130400</td>\n",
              "      <td>0.038033</td>\n",
              "      <td>0.1920</td>\n",
              "    </tr>\n",
              "    <tr>\n",
              "      <th>a_7</th>\n",
              "      <td>0.00180</td>\n",
              "      <td>0.065871</td>\n",
              "      <td>0.228200</td>\n",
              "      <td>0.108667</td>\n",
              "      <td>0.1536</td>\n",
              "    </tr>\n",
              "  </tbody>\n",
              "</table>\n",
              "</div>"
            ],
            "text/plain": [
              "     load_capacity  manipulator_reach  ...  memory_capacity  repeatability\n",
              "a_1        0.03600           0.070883  ...         0.054333         0.0384\n",
              "a_2        0.00381           0.074535  ...         0.326000         0.1024\n",
              "a_3        0.00408           0.120000  ...         0.163000         0.1536\n",
              "a_4        0.00600           0.069093  ...         0.217333         0.0768\n",
              "a_5        0.00150           0.065513  ...         0.054333         0.1536\n",
              "a_6        0.00270           0.036372  ...         0.038033         0.1920\n",
              "a_7        0.00180           0.065871  ...         0.108667         0.1536\n",
              "\n",
              "[7 rows x 5 columns]"
            ]
          },
          "metadata": {
            "tags": []
          },
          "execution_count": 29
        }
      ]
    },
    {
      "cell_type": "markdown",
      "metadata": {
        "id": "57FLFnCYNby-"
      },
      "source": [
        "## Passo 4\r\n",
        "- Determinar a solução ideal negativa\r\n",
        "da seguinte forma:\r\n",
        "\r\n",
        "$$ns = [ns_j]_{1 \\times m}$$\r\n",
        "\r\n",
        "$$ns_j = \\min r_{ij}$$"
      ]
    },
    {
      "cell_type": "code",
      "metadata": {
        "colab": {
          "base_uri": "https://localhost:8080/"
        },
        "id": "mvIj3IZgzkOy",
        "outputId": "f0fcfc4b-12ae-4982-9c75-ce452f5fa8c0"
      },
      "source": [
        "negative_ideal_solution = m_weighted.min()\r\n",
        "negative_ideal_solution"
      ],
      "execution_count": null,
      "outputs": [
        {
          "output_type": "execute_result",
          "data": {
            "text/plain": [
              "load_capacity        0.001500\n",
              "manipulator_reach    0.036372\n",
              "maximum_tip_speed    0.071874\n",
              "memory_capacity      0.038033\n",
              "repeatability        0.038400\n",
              "dtype: float64"
            ]
          },
          "metadata": {
            "tags": []
          },
          "execution_count": 30
        }
      ]
    },
    {
      "cell_type": "markdown",
      "metadata": {
        "id": "KZM6UG5jOo-z"
      },
      "source": [
        "## Passo 5 \r\n",
        "- Calcular a distância Euclidiana e a distância Manhattan  das alternativas em relação a **solução ideal negativa**, como mostrado a seguir:\r\n",
        "\r\n",
        "$$E_i = \\sqrt{\\sum^m_{j=1}(r_{ij}-ns_j)^2}$$\r\n",
        "\r\n",
        "$$T_i = \\sum^m_{j=1}|r_{ij}-ns_j|$$"
      ]
    },
    {
      "cell_type": "code",
      "metadata": {
        "colab": {
          "base_uri": "https://localhost:8080/"
        },
        "id": "FM6yFlbX3le_",
        "outputId": "50ce5ab7-2600-49c9-9cc7-c12f05de53b9"
      },
      "source": [
        "euclidian_distance = m_weighted.apply(lambda x: np.linalg.norm(x - negative_ideal_solution),axis=1)\r\n",
        "euclidian_distance"
      ],
      "execution_count": null,
      "outputs": [
        {
          "output_type": "execute_result",
          "data": {
            "text/plain": [
              "a_1    0.259282\n",
              "a_2    0.303163\n",
              "a_3    0.241516\n",
              "a_4    0.194687\n",
              "a_5    0.119941\n",
              "a_6    0.164377\n",
              "a_7    0.208730\n",
              "dtype: float64"
            ]
          },
          "metadata": {
            "tags": []
          },
          "execution_count": 31
        }
      ]
    },
    {
      "cell_type": "code",
      "metadata": {
        "colab": {
          "base_uri": "https://localhost:8080/"
        },
        "id": "F1I9Kkp6arqE",
        "outputId": "88abbc5c-ae4e-4c72-c2da-e57a6624bce4"
      },
      "source": [
        "manhathan_distance = m_weighted.apply(lambda x: (x - negative_ideal_solution).abs().sum(),axis=1)\r\n",
        "manhathan_distance"
      ],
      "execution_count": null,
      "outputs": [
        {
          "output_type": "execute_result",
          "data": {
            "text/plain": [
              "a_1    0.339437\n",
              "a_2    0.450965\n",
              "a_3    0.476180\n",
              "a_4    0.311393\n",
              "a_5    0.160641\n",
              "a_6    0.213326\n",
              "a_7    0.371958\n",
              "dtype: float64"
            ]
          },
          "metadata": {
            "tags": []
          },
          "execution_count": 32
        }
      ]
    },
    {
      "cell_type": "markdown",
      "metadata": {
        "id": "x87EpHmWYoTy"
      },
      "source": [
        "## Passo 6\r\n",
        "- Construir a matriz de determinação\r\n",
        "\r\n",
        "$$Ra = [h_{ik}]_{n \\times m}$$\r\n",
        "\r\n",
        "$$h_{ik} = (E_i - E_k) + (\\psi(E_i - E_k) \\times (T_i - T_k))$$\r\n",
        "\r\n",
        "onde k $\\in \\{1,2,...,n\\}$ e $\\psi$ é a função limite que reconhece a similaridade das distâncias euclidianas de duas alternativas, tal função é definida como:\r\n",
        "\r\n",
        "$$\\psi(x) \r\n",
        "\\begin{cases} \r\n",
        "0, & \\text{se } |x|\\ge \\tau \\\\\r\n",
        "1, & \\text{se } |x|\\lt \\tau\r\n",
        "\\end{cases}$$\r\n",
        "\r\n",
        "na função, $\\tau$ é um parâmetro que pode ser escolhido pelo decisor. Levando-se em consideração que é recomendado que seja proximo de 0; de forma que, caso a diferença entre as distâncias euclidianas das alternativas for maior que $\\tau$ essas duas alternativas também devem ser comparadas em termos da distância Manhattan.\r\n",
        "\r\n",
        "Para esse exemplo $\\tau = 0.02$ "
      ]
    },
    {
      "cell_type": "code",
      "metadata": {
        "colab": {
          "base_uri": "https://localhost:8080/"
        },
        "id": "-8yH6YtcMkZ0",
        "outputId": "e5a187e5-dcaf-401c-96ed-c0c428b645dd"
      },
      "source": [
        "threshold = 0.02\r\n",
        "\r\n",
        "#matriz comparação\r\n",
        "def comparison_matrix(s:pd.Series)->np.array:\r\n",
        "  return s.values - s.values[:,None]\r\n",
        "\r\n",
        "euclidean_comparison = pd.DataFrame(\r\n",
        "    comparison_matrix(euclidian_distance),\r\n",
        "    index=alternatives,\r\n",
        "    columns=alternatives\r\n",
        "    )\r\n",
        "\r\n",
        "manhathan_comparison = pd.DataFrame(\r\n",
        "    comparison_matrix(manhathan_distance),\r\n",
        "    index=alternatives,\r\n",
        "    columns=alternatives)\r\n",
        "\r\n",
        "print(\"euclidean\")\r\n",
        "print(euclidean_comparison)\r\n",
        "print(\"--------------------------\"*3)\r\n",
        "print(\"manhattan\")\r\n",
        "print(manhathan_comparison)"
      ],
      "execution_count": null,
      "outputs": [
        {
          "output_type": "stream",
          "text": [
            "euclidean\n",
            "          a_1       a_2       a_3       a_4       a_5       a_6       a_7\n",
            "a_1  0.000000  0.043881 -0.017766 -0.064594 -0.139340 -0.094905 -0.050552\n",
            "a_2 -0.043881  0.000000 -0.061647 -0.108476 -0.183222 -0.138786 -0.094433\n",
            "a_3  0.017766  0.061647  0.000000 -0.046828 -0.121574 -0.077139 -0.032786\n",
            "a_4  0.064594  0.108476  0.046828  0.000000 -0.074746 -0.030310  0.014043\n",
            "a_5  0.139340  0.183222  0.121574  0.074746  0.000000  0.044435  0.088789\n",
            "a_6  0.094905  0.138786  0.077139  0.030310 -0.044435  0.000000  0.044353\n",
            "a_7  0.050552  0.094433  0.032786 -0.014043 -0.088789 -0.044353  0.000000\n",
            "------------------------------------------------------------------------------\n",
            "manhattan\n",
            "          a_1       a_2       a_3       a_4       a_5       a_6       a_7\n",
            "a_1  0.000000  0.111528  0.136744 -0.028044 -0.178796 -0.126111  0.032521\n",
            "a_2 -0.111528  0.000000  0.025215 -0.139572 -0.290324 -0.237639 -0.079007\n",
            "a_3 -0.136744 -0.025215  0.000000 -0.164787 -0.315540 -0.262854 -0.104222\n",
            "a_4  0.028044  0.139572  0.164787  0.000000 -0.150752 -0.098067  0.060565\n",
            "a_5  0.178796  0.290324  0.315540  0.150752  0.000000  0.052685  0.211317\n",
            "a_6  0.126111  0.237639  0.262854  0.098067 -0.052685  0.000000  0.158632\n",
            "a_7 -0.032521  0.079007  0.104222 -0.060565 -0.211317 -0.158632  0.000000\n"
          ],
          "name": "stdout"
        }
      ]
    },
    {
      "cell_type": "code",
      "metadata": {
        "colab": {
          "base_uri": "https://localhost:8080/",
          "height": 266
        },
        "id": "urIQnH-5hr4a",
        "outputId": "1c496604-713c-469a-f6c8-26ad9c2e0a0f"
      },
      "source": [
        "((euclidean_comparison.abs()<threshold)*1)"
      ],
      "execution_count": null,
      "outputs": [
        {
          "output_type": "execute_result",
          "data": {
            "text/html": [
              "<div>\n",
              "<style scoped>\n",
              "    .dataframe tbody tr th:only-of-type {\n",
              "        vertical-align: middle;\n",
              "    }\n",
              "\n",
              "    .dataframe tbody tr th {\n",
              "        vertical-align: top;\n",
              "    }\n",
              "\n",
              "    .dataframe thead th {\n",
              "        text-align: right;\n",
              "    }\n",
              "</style>\n",
              "<table border=\"1\" class=\"dataframe\">\n",
              "  <thead>\n",
              "    <tr style=\"text-align: right;\">\n",
              "      <th></th>\n",
              "      <th>a_1</th>\n",
              "      <th>a_2</th>\n",
              "      <th>a_3</th>\n",
              "      <th>a_4</th>\n",
              "      <th>a_5</th>\n",
              "      <th>a_6</th>\n",
              "      <th>a_7</th>\n",
              "    </tr>\n",
              "  </thead>\n",
              "  <tbody>\n",
              "    <tr>\n",
              "      <th>a_1</th>\n",
              "      <td>1</td>\n",
              "      <td>0</td>\n",
              "      <td>1</td>\n",
              "      <td>0</td>\n",
              "      <td>0</td>\n",
              "      <td>0</td>\n",
              "      <td>0</td>\n",
              "    </tr>\n",
              "    <tr>\n",
              "      <th>a_2</th>\n",
              "      <td>0</td>\n",
              "      <td>1</td>\n",
              "      <td>0</td>\n",
              "      <td>0</td>\n",
              "      <td>0</td>\n",
              "      <td>0</td>\n",
              "      <td>0</td>\n",
              "    </tr>\n",
              "    <tr>\n",
              "      <th>a_3</th>\n",
              "      <td>1</td>\n",
              "      <td>0</td>\n",
              "      <td>1</td>\n",
              "      <td>0</td>\n",
              "      <td>0</td>\n",
              "      <td>0</td>\n",
              "      <td>0</td>\n",
              "    </tr>\n",
              "    <tr>\n",
              "      <th>a_4</th>\n",
              "      <td>0</td>\n",
              "      <td>0</td>\n",
              "      <td>0</td>\n",
              "      <td>1</td>\n",
              "      <td>0</td>\n",
              "      <td>0</td>\n",
              "      <td>1</td>\n",
              "    </tr>\n",
              "    <tr>\n",
              "      <th>a_5</th>\n",
              "      <td>0</td>\n",
              "      <td>0</td>\n",
              "      <td>0</td>\n",
              "      <td>0</td>\n",
              "      <td>1</td>\n",
              "      <td>0</td>\n",
              "      <td>0</td>\n",
              "    </tr>\n",
              "    <tr>\n",
              "      <th>a_6</th>\n",
              "      <td>0</td>\n",
              "      <td>0</td>\n",
              "      <td>0</td>\n",
              "      <td>0</td>\n",
              "      <td>0</td>\n",
              "      <td>1</td>\n",
              "      <td>0</td>\n",
              "    </tr>\n",
              "    <tr>\n",
              "      <th>a_7</th>\n",
              "      <td>0</td>\n",
              "      <td>0</td>\n",
              "      <td>0</td>\n",
              "      <td>1</td>\n",
              "      <td>0</td>\n",
              "      <td>0</td>\n",
              "      <td>1</td>\n",
              "    </tr>\n",
              "  </tbody>\n",
              "</table>\n",
              "</div>"
            ],
            "text/plain": [
              "     a_1  a_2  a_3  a_4  a_5  a_6  a_7\n",
              "a_1    1    0    1    0    0    0    0\n",
              "a_2    0    1    0    0    0    0    0\n",
              "a_3    1    0    1    0    0    0    0\n",
              "a_4    0    0    0    1    0    0    1\n",
              "a_5    0    0    0    0    1    0    0\n",
              "a_6    0    0    0    0    0    1    0\n",
              "a_7    0    0    0    1    0    0    1"
            ]
          },
          "metadata": {
            "tags": []
          },
          "execution_count": 34
        }
      ]
    },
    {
      "cell_type": "code",
      "metadata": {
        "colab": {
          "base_uri": "https://localhost:8080/",
          "height": 266
        },
        "id": "pOyMRel2TcxX",
        "outputId": "cbec60d0-56de-4460-f72f-4db55c01168f"
      },
      "source": [
        "threshold_matrix = ((euclidean_comparison.abs()<threshold)*1)\r\n",
        "relative_assesment_matrix = (\r\n",
        "    euclidean_comparison + threshold_matrix  * manhathan_comparison)\r\n",
        "\r\n",
        "relative_assesment_matrix"
      ],
      "execution_count": null,
      "outputs": [
        {
          "output_type": "execute_result",
          "data": {
            "text/html": [
              "<div>\n",
              "<style scoped>\n",
              "    .dataframe tbody tr th:only-of-type {\n",
              "        vertical-align: middle;\n",
              "    }\n",
              "\n",
              "    .dataframe tbody tr th {\n",
              "        vertical-align: top;\n",
              "    }\n",
              "\n",
              "    .dataframe thead th {\n",
              "        text-align: right;\n",
              "    }\n",
              "</style>\n",
              "<table border=\"1\" class=\"dataframe\">\n",
              "  <thead>\n",
              "    <tr style=\"text-align: right;\">\n",
              "      <th></th>\n",
              "      <th>a_1</th>\n",
              "      <th>a_2</th>\n",
              "      <th>a_3</th>\n",
              "      <th>a_4</th>\n",
              "      <th>a_5</th>\n",
              "      <th>a_6</th>\n",
              "      <th>a_7</th>\n",
              "    </tr>\n",
              "  </thead>\n",
              "  <tbody>\n",
              "    <tr>\n",
              "      <th>a_1</th>\n",
              "      <td>0.000000</td>\n",
              "      <td>0.043881</td>\n",
              "      <td>0.118978</td>\n",
              "      <td>-0.064594</td>\n",
              "      <td>-0.139340</td>\n",
              "      <td>-0.094905</td>\n",
              "      <td>-0.050552</td>\n",
              "    </tr>\n",
              "    <tr>\n",
              "      <th>a_2</th>\n",
              "      <td>-0.043881</td>\n",
              "      <td>0.000000</td>\n",
              "      <td>-0.061647</td>\n",
              "      <td>-0.108476</td>\n",
              "      <td>-0.183222</td>\n",
              "      <td>-0.138786</td>\n",
              "      <td>-0.094433</td>\n",
              "    </tr>\n",
              "    <tr>\n",
              "      <th>a_3</th>\n",
              "      <td>-0.118978</td>\n",
              "      <td>0.061647</td>\n",
              "      <td>0.000000</td>\n",
              "      <td>-0.046828</td>\n",
              "      <td>-0.121574</td>\n",
              "      <td>-0.077139</td>\n",
              "      <td>-0.032786</td>\n",
              "    </tr>\n",
              "    <tr>\n",
              "      <th>a_4</th>\n",
              "      <td>0.064594</td>\n",
              "      <td>0.108476</td>\n",
              "      <td>0.046828</td>\n",
              "      <td>0.000000</td>\n",
              "      <td>-0.074746</td>\n",
              "      <td>-0.030310</td>\n",
              "      <td>0.074608</td>\n",
              "    </tr>\n",
              "    <tr>\n",
              "      <th>a_5</th>\n",
              "      <td>0.139340</td>\n",
              "      <td>0.183222</td>\n",
              "      <td>0.121574</td>\n",
              "      <td>0.074746</td>\n",
              "      <td>0.000000</td>\n",
              "      <td>0.044435</td>\n",
              "      <td>0.088789</td>\n",
              "    </tr>\n",
              "    <tr>\n",
              "      <th>a_6</th>\n",
              "      <td>0.094905</td>\n",
              "      <td>0.138786</td>\n",
              "      <td>0.077139</td>\n",
              "      <td>0.030310</td>\n",
              "      <td>-0.044435</td>\n",
              "      <td>0.000000</td>\n",
              "      <td>0.044353</td>\n",
              "    </tr>\n",
              "    <tr>\n",
              "      <th>a_7</th>\n",
              "      <td>0.050552</td>\n",
              "      <td>0.094433</td>\n",
              "      <td>0.032786</td>\n",
              "      <td>-0.074608</td>\n",
              "      <td>-0.088789</td>\n",
              "      <td>-0.044353</td>\n",
              "      <td>0.000000</td>\n",
              "    </tr>\n",
              "  </tbody>\n",
              "</table>\n",
              "</div>"
            ],
            "text/plain": [
              "          a_1       a_2       a_3       a_4       a_5       a_6       a_7\n",
              "a_1  0.000000  0.043881  0.118978 -0.064594 -0.139340 -0.094905 -0.050552\n",
              "a_2 -0.043881  0.000000 -0.061647 -0.108476 -0.183222 -0.138786 -0.094433\n",
              "a_3 -0.118978  0.061647  0.000000 -0.046828 -0.121574 -0.077139 -0.032786\n",
              "a_4  0.064594  0.108476  0.046828  0.000000 -0.074746 -0.030310  0.074608\n",
              "a_5  0.139340  0.183222  0.121574  0.074746  0.000000  0.044435  0.088789\n",
              "a_6  0.094905  0.138786  0.077139  0.030310 -0.044435  0.000000  0.044353\n",
              "a_7  0.050552  0.094433  0.032786 -0.074608 -0.088789 -0.044353  0.000000"
            ]
          },
          "metadata": {
            "tags": []
          },
          "execution_count": 35
        }
      ]
    },
    {
      "cell_type": "code",
      "metadata": {
        "colab": {
          "base_uri": "https://localhost:8080/"
        },
        "id": "WI-n0nl6Y6xo",
        "outputId": "631ca64c-b661-48db-8388-63d16a84e362"
      },
      "source": [
        "assessment_score = relative_assesment_matrix.sum().sort_values(ascending=False)\r\n",
        "assessment_score"
      ],
      "execution_count": null,
      "outputs": [
        {
          "output_type": "execute_result",
          "data": {
            "text/plain": [
              "a_2    0.630446\n",
              "a_3    0.335658\n",
              "a_1    0.186532\n",
              "a_7    0.029979\n",
              "a_4   -0.189450\n",
              "a_6   -0.341059\n",
              "a_5   -0.652106\n",
              "dtype: float64"
            ]
          },
          "metadata": {
            "tags": []
          },
          "execution_count": 36
        }
      ]
    },
    {
      "cell_type": "code",
      "metadata": {
        "id": "bnraHaEP4cU1"
      },
      "source": [
        ""
      ],
      "execution_count": null,
      "outputs": []
    }
  ]
}